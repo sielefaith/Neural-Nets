{
  "nbformat": 4,
  "nbformat_minor": 0,
  "metadata": {
    "colab": {
      "name": "Linear_Regression.ipynb",
      "provenance": [],
      "authorship_tag": "ABX9TyNMqC3aF+jWBmui3nmCvUvF",
      "include_colab_link": true
    },
    "kernelspec": {
      "display_name": "Python 3",
      "name": "python3"
    },
    "language_info": {
      "name": "python"
    }
  },
  "cells": [
    {
      "cell_type": "markdown",
      "metadata": {
        "id": "view-in-github",
        "colab_type": "text"
      },
      "source": [
        "<a href=\"https://colab.research.google.com/github/sielefaith/Neural-Nets/blob/feature/Linear_Regression.ipynb\" target=\"_parent\"><img src=\"https://colab.research.google.com/assets/colab-badge.svg\" alt=\"Open In Colab\"/></a>"
      ]
    },
    {
      "cell_type": "code",
      "metadata": {
        "colab": {
          "base_uri": "https://localhost:8080/"
        },
        "id": "sIMHt5PORP2i",
        "outputId": "dfaa4f94-0297-4c1f-e96b-acb730ee9ff0"
      },
      "source": [
        " \n",
        "#import tensorflow as tf\n",
        "import tensorflow.compat.v1 as tf\n",
        "tf.disable_v2_behavior()\n",
        " \n",
        " \n",
        "x1 = tf.placeholder(tf.float32,1)\n",
        "w1 = tf.placeholder(tf.float32,1)\n",
        "x2 = tf.placeholder(tf.float32,1)\n",
        "w2 = tf.placeholder(tf.float32,1)\n",
        " \n",
        "z1 = tf.multiply(x1, w1)\n",
        "z2 = tf.multiply(x2, w2)\n",
        "z3 = tf.add(z1, z2)\n",
        " \n",
        "feed_dict = {x1:[1], w1:[2], x2:[3], w2:[4]}\n",
        "sess = tf.Session()\n",
        "sess.run(z3, feed_dict)"
      ],
      "execution_count": null,
      "outputs": [
        {
          "output_type": "execute_result",
          "data": {
            "text/plain": [
              "array([14.], dtype=float32)"
            ]
          },
          "metadata": {
            "tags": []
          },
          "execution_count": 16
        }
      ]
    },
    {
      "cell_type": "code",
      "metadata": {
        "colab": {
          "base_uri": "https://localhost:8080/",
          "height": 543
        },
        "id": "oXzmcmOcmyFG",
        "outputId": "1ed7864c-fcb9-400a-d495-46a91ed026bc"
      },
      "source": [
        " \n",
        "#import tensorflow as tf\n",
        "import tensorflow.compat.v1 as tf\n",
        "tf.disable_v2_behavior()\n",
        "import matplotlib.pyplot as plt\n",
        "%matplotlib inline\n",
        "import numpy as np\n",
        "#from sklearn.datasets import load_boston\n",
        " \n",
        "from sklearn.datasets import load_boston\n",
        " \n",
        "boston = load_boston()\n",
        "features = np.array(boston.data)\n",
        "labels = np.array(boston.target)\n",
        " \n",
        "#print(boston[\"DESCR\"])\n",
        " \n",
        "n_training_samples = features.shape[0]\n",
        "n_dim = features.shape[1]\n",
        "print('The dataset has',n_training_samples,'training samples')\n",
        "print('The dataset has',n_dim,'features')\n",
        " \n",
        " \n",
        "#NORMALIZE FEATURES\n",
        "def normalize(dataset):\n",
        "    mu = np.mean(dataset, axis=0)\n",
        "    sigma = np.std(dataset, axis=0)\n",
        "    return (dataset - mu) / sigma\n",
        " \n",
        "features_norm = normalize(features)\n",
        "#print(features_norm)\n",
        "#we'll use all the data for training\n",
        "train_X = np.transpose(features_norm)\n",
        "train_y = np.transpose(labels)\n",
        " \n",
        "#Dimensions of our new matrices\n",
        "print(train_X.shape)\n",
        "print(train_y.shape)\n",
        " \n",
        "#Reshape array\n",
        "train_y = train_y.reshape(1, len(train_y))\n",
        "print(train_y.shape)\n",
        " \n",
        "#NEURON $ COSTFUNCTION(LINEAR REGRESSION)\n",
        "#IDENTITY ACTIVATION FUNCTION\n",
        "#MSE(MEAN SQUARED ERROR)==>loss to be minimized\n",
        " \n",
        "tf.reset_default_graph()\n",
        " \n",
        "X = tf.placeholder(tf.float32,[n_dim, None])\n",
        "y = tf.placeholder(tf.float32,[1, None])\n",
        "learning_rate = tf.placeholder(tf.float32, shape=())\n",
        "w = tf.Variable(tf.ones([n_dim, 1]))\n",
        "b = tf.Variable(tf.zeros(1))\n",
        " \n",
        "init = tf.global_variables_initializer()\n",
        "y_ = tf.matmul(tf.transpose(w),X) + b\n",
        "cost = tf.reduce_mean(tf.square(y_ - y))\n",
        "training_step = tf.train.GradientDescentOptimizer(learning_rate).minimize(cost)\n",
        " \n",
        "def run_linear_model(learning_r, training_epochs, train_obs, train_labels, debug = False):\n",
        "    sess = tf.Session()\n",
        "    sess.run(init)\n",
        "    cost_history = np.empty(shape=[0], dtype = float)\n",
        "    \n",
        "    for epoch in range(training_epochs + 1):\n",
        "        sess.run(training_step, feed_dict={X:train_obs, y:train_labels, learning_rate:learning_r})\n",
        "        cost_ = sess.run(cost, feed_dict ={X:train_obs, y:train_labels, learning_rate:learning_r})\n",
        "        cost_history = np.append(cost_history, cost_)\n",
        "        if(epoch % 1000 == 0) & debug:\n",
        "            print(\"Reached epoch\",epoch,\"cost J = \", str.format('{0:.6f}', cost_))\n",
        " \n",
        "    return sess, cost_history\n",
        " \n",
        " \n",
        "sess, cost_history = run_linear_model(learning_r = 0.01, training_epochs = 10000, train_obs = train_X, train_labels = train_y, debug = True)\n",
        "plt.plot(cost_history[:500])\n",
        "plt.show()"
      ],
      "execution_count": 2,
      "outputs": [
        {
          "output_type": "stream",
          "text": [
            "The dataset has 506 training samples\n",
            "The dataset has 13 features\n",
            "(13, 506)\n",
            "(506,)\n",
            "(1, 506)\n",
            "Reached epoch 0 cost J =  606.887146\n",
            "Reached epoch 1000 cost J =  21.952604\n",
            "Reached epoch 2000 cost J =  21.899088\n",
            "Reached epoch 3000 cost J =  21.895166\n",
            "Reached epoch 4000 cost J =  21.894857\n",
            "Reached epoch 5000 cost J =  21.894833\n",
            "Reached epoch 6000 cost J =  21.894835\n",
            "Reached epoch 7000 cost J =  21.894833\n",
            "Reached epoch 8000 cost J =  21.894833\n",
            "Reached epoch 9000 cost J =  21.894833\n",
            "Reached epoch 10000 cost J =  21.894833\n"
          ],
          "name": "stdout"
        },
        {
          "output_type": "display_data",
          "data": {
            "image/png": "[encoded data removed]",
            "text/plain": [
              "<Figure size 432x288 with 1 Axes>"
            ]
          },
          "metadata": {
            "tags": [],
            "needs_background": "light"
          }
        }
      ]
    }
  ]
}