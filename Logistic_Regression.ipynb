{
  "nbformat": 4,
  "nbformat_minor": 0,
  "metadata": {
    "colab": {
      "name": "Logistic Regression.ipynb",
      "provenance": [],
      "authorship_tag": "ABX9TyM0GZo8NZGYENwZ0/fiqOX8",
      "include_colab_link": true
    },
    "kernelspec": {
      "display_name": "Python 3",
      "name": "python3"
    },
    "language_info": {
      "name": "python"
    }
  },
  "cells": [
    {
      "cell_type": "markdown",
      "metadata": {
        "id": "view-in-github",
        "colab_type": "text"
      },
      "source": [
        "<a href=\"https://colab.research.google.com/github/sielefaith/Neural-Nets/blob/feature/Logistic_Regression.ipynb\" target=\"_parent\"><img src=\"https://colab.research.google.com/assets/colab-badge.svg\" alt=\"Open In Colab\"/></a>"
      ]
    },
    {
      "cell_type": "code",
      "metadata": {
        "colab": {
          "base_uri": "https://localhost:8080/",
          "height": 719
        },
        "id": "4NQlGpViO9W2",
        "outputId": "f1bdbe12-4166-4381-9b9d-36966e3f6564"
      },
      "source": [
        "from sklearn.datasets import fetch_openml\n",
        "import numpy as np\n",
        "from collections import Counter\n",
        "import matplotlib\n",
        "import matplotlib.pyplot as plt\n",
        "import tensorflow.compat.v1 as tf\n",
        "tf.disable_v2_behavior() \n",
        "mnist = fetch_openml('mnist_784')\n",
        "X,y = mnist[\"data\"],mnist[\"target\"]\n",
        "print(X.shape)\n",
        "#count elements in an array\n",
        "print(Counter(y))\n",
        " \n",
        "#visualize the digits\n",
        "def plot_digit(some_digit):\n",
        "    some_digit_image = some_digit.reshape(28,28)\n",
        "    plt.imshow(some_digit_image, cmap = matplotlib.cm.binary, interpolation = \"nearest\")\n",
        "    plt.axis(\"off\")\n",
        "    plt.show()\n",
        "plot_digit(X[36003])\n",
        " \n",
        "#convert the y string to float\n",
        "Y = y.astype(np.float)\n",
        "#check  no. of digits\n",
        "for i in range(10):\n",
        "    print(\"digit\",i,\"appears\",np.count_nonzero(Y == i),\"times\")\n",
        "#Reduce dataset to two classes\n",
        "X_train = X[np.any([Y == 1, Y == 2], axis = 0)]\n",
        "y_train = Y[np.any([Y == 1, Y == 2], axis = 0)]\n",
        " \n",
        "#Normalize input observations\n",
        "X_train_normalized = X_train / 255.0\n",
        " \n",
        "X_train_tr = X_train_normalized.transpose()\n",
        "y_train_tr = y_train.reshape(1, y_train.shape[0])\n",
        " \n",
        "#Contain number of features\n",
        "n_dim = X_train_tr.shape[0]\n",
        " \n",
        "#Rescale our y_train_tr array(from 1 or 2, to 0 and 1)\n",
        "y_train_shifted = y_train_tr - 1\n",
        " \n",
        "#Use proper variable names\n",
        "Xtrain = X_train_tr\n",
        "ytrain = y_train_shifted\n",
        " \n",
        "#print(Xtrain,ytrain)\n",
        " \n",
        "#Tensorflow\n",
        "#Define placeholders and Variables\n",
        "tf.reset_default_graph()\n",
        " \n",
        "X = tf.placeholder(tf.float32,[n_dim,None])\n",
        "y = tf.placeholder(tf.float32,[1,None])\n",
        "learning_rate = tf.placeholder(tf.float32,shape=())\n",
        " \n",
        "w = tf.Variable(tf.zeros([1,n_dim]))\n",
        "b = tf.Variable(tf.zeros(1))\n",
        " \n",
        "init = tf.global_variables_initializer()\n",
        " \n",
        "y_ = tf.sigmoid(tf.matmul(w,X)+b)\n",
        "cost = -tf.reduce_mean(y*tf.log(y_) + (1 - y)*tf.log(1 - y_))\n",
        "training_step = tf.train.GradientDescentOptimizer(learning_rate).minimize(cost)\n",
        " \n",
        "def run_logistic_model(learning_r,training_epochs,train_obs,train_labels,debug=False):\n",
        "    sess = tf.Session()\n",
        "    sess.run(init)\n",
        "    cost_history = np.empty(shape=[0],dtype=float)\n",
        "    for epoch in range(training_epochs + 1):\n",
        "        sess.run(training_step,feed_dict={X:train_obs,y:train_labels,learning_rate:learning_r})\n",
        "        cost_ = sess.run(cost,feed_dict = {X:train_obs,y:train_labels,learning_rate:learning_r})\n",
        "        cost_history = np.append(cost_history,cost_)\n",
        "        if (epoch % 500 == 0) & debug:\n",
        "            print(\"Reached epoch\",epoch,\"cost J =\",str.format('{0:.6f}',cost_))\n",
        "    return sess,cost_history\n",
        " \n",
        "sess,cost_history = run_logistic_model(learning_r=0.01,training_epochs=5000,train_obs=Xtrain,train_labels=ytrain,debug=True)"
      ],
      "execution_count": null,
      "outputs": [
        {
          "output_type": "stream",
          "text": [
            "WARNING:tensorflow:From /usr/local/lib/python3.7/dist-packages/tensorflow/python/compat/v2_compat.py:96: disable_resource_variables (from tensorflow.python.ops.variable_scope) is deprecated and will be removed in a future version.\n",
            "Instructions for updating:\n",
            "non-resource variables are not supported in the long term\n",
            "(70000, 784)\n",
            "Counter({'1': 7877, '7': 7293, '3': 7141, '2': 6990, '9': 6958, '0': 6903, '6': 6876, '8': 6825, '4': 6824, '5': 6313})\n"
          ],
          "name": "stdout"
        },
        {
          "output_type": "display_data",
          "data": {
            "image/png": "[encoded data removed]",
            "text/plain": [
              "<Figure size 432x288 with 1 Axes>"
            ]
          },
          "metadata": {
            "tags": [],
            "needs_background": "light"
          }
        },
        {
          "output_type": "stream",
          "text": [
            "digit 0 appears 6903 times\n",
            "digit 1 appears 7877 times\n",
            "digit 2 appears 6990 times\n",
            "digit 3 appears 7141 times\n",
            "digit 4 appears 6824 times\n",
            "digit 5 appears 6313 times\n",
            "digit 6 appears 6876 times\n",
            "digit 7 appears 7293 times\n",
            "digit 8 appears 6825 times\n",
            "digit 9 appears 6958 times\n",
            "Reached epoch 0 cost J = 0.678540\n",
            "Reached epoch 500 cost J = 0.108484\n",
            "Reached epoch 1000 cost J = 0.078730\n",
            "Reached epoch 1500 cost J = 0.066561\n",
            "Reached epoch 2000 cost J = 0.059643\n",
            "Reached epoch 2500 cost J = nan\n",
            "Reached epoch 3000 cost J = nan\n",
            "Reached epoch 3500 cost J = nan\n",
            "Reached epoch 4000 cost J = nan\n",
            "Reached epoch 4500 cost J = nan\n",
            "Reached epoch 5000 cost J = nan\n"
          ],
          "name": "stdout"
        }
      ]
    }
  ]
}