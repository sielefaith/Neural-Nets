{
  "nbformat": 4,
  "nbformat_minor": 0,
  "metadata": {
    "colab": {
      "name": "OneHotEncoding.ipynb",
      "provenance": [],
      "collapsed_sections": [],
      "mount_file_id": "1xShh9zcwzuVCVwRKYWR7pjiWt7y8i0Ll",
      "authorship_tag": "ABX9TyNZM4aKAMAgA1hHbnmmOeEj",
      "include_colab_link": true
    },
    "kernelspec": {
      "name": "python3",
      "display_name": "Python 3"
    },
    "language_info": {
      "name": "python"
    }
  },
  "cells": [
    {
      "cell_type": "markdown",
      "metadata": {
        "id": "view-in-github",
        "colab_type": "text"
      },
      "source": [
        "<a href=\"https://colab.research.google.com/github/sielefaith/Neural-Nets/blob/feature/OneHotEncoding.ipynb\" target=\"_parent\"><img src=\"https://colab.research.google.com/assets/colab-badge.svg\" alt=\"Open In Colab\"/></a>"
      ]
    },
    {
      "cell_type": "code",
      "metadata": {
        "id": "r3wE6mPud1pM"
      },
      "source": [
        "import os\n",
        "os.environ[\"KAGGLE_CONFIG_DIR\"] = '/'"
      ],
      "execution_count": null,
      "outputs": []
    },
    {
      "cell_type": "code",
      "metadata": {
        "id": "GLPQWDg0fUTe",
        "colab": {
          "base_uri": "https://localhost:8080/"
        },
        "outputId": "35931f7c-251b-4e9f-996e-f01013d40dd0"
      },
      "source": [
        "!kaggle datasets download -d zalando-research/fashionmnist"
      ],
      "execution_count": null,
      "outputs": [
        {
          "output_type": "stream",
          "text": [
            "Warning: Your Kaggle API key is readable by other users on this system! To fix this, you can run 'chmod 600 /kaggle.json'\n",
            "Downloading fashionmnist.zip to /content\n",
            " 79% 54.0M/68.8M [00:00<00:00, 47.8MB/s]\n",
            "100% 68.8M/68.8M [00:00<00:00, 101MB/s] \n"
          ],
          "name": "stdout"
        }
      ]
    },
    {
      "cell_type": "code",
      "metadata": {
        "colab": {
          "base_uri": "https://localhost:8080/"
        },
        "id": "MT6bHdXZzWwX",
        "outputId": "821c4b60-652e-43dc-9559-7e187f537168"
      },
      "source": [
        "!unzip \\*.zip && rm *.zip"
      ],
      "execution_count": null,
      "outputs": [
        {
          "output_type": "stream",
          "text": [
            "Archive:  fashionmnist.zip\n",
            "  inflating: fashion-mnist_test.csv  \n",
            "  inflating: fashion-mnist_train.csv  \n",
            "  inflating: t10k-images-idx3-ubyte  \n",
            "  inflating: t10k-labels-idx1-ubyte  \n",
            "  inflating: train-images-idx3-ubyte  \n",
            "  inflating: train-labels-idx1-ubyte  \n"
          ],
          "name": "stdout"
        }
      ]
    },
    {
      "cell_type": "code",
      "metadata": {
        "id": "jS1FlgGr0KQ_",
        "colab": {
          "base_uri": "https://localhost:8080/"
        },
        "outputId": "db16be4b-559f-4d38-c97a-753295271c57"
      },
      "source": [
        "import pandas as pd\n",
        "import numpy as np\n",
        "\n",
        "\n",
        "df = pd.read_csv(r\"/content/drive/MyDrive/Colab Notebooks/fashion-mnist_train.csv\",header=0)\n",
        "#df.head()\n",
        "\n",
        "df['label'].values.reshape(1,60000)\n",
        "\n",
        "#df.drop('label', axis=1)\n",
        "\n",
        "#train = np.array(df / 255.0)"
      ],
      "execution_count": 19,
      "outputs": [
        {
          "output_type": "execute_result",
          "data": {
            "text/plain": [
              "array([[2, 9, 6, ..., 8, 8, 7]])"
            ]
          },
          "metadata": {
            "tags": []
          },
          "execution_count": 19
        }
      ]
    },
    {
      "cell_type": "code",
      "metadata": {
        "colab": {
          "base_uri": "https://localhost:8080/"
        },
        "id": "e0mlrgs0P8_B",
        "outputId": "6adbc3b7-a252-40cf-aaed-6b5f1dac2ac7"
      },
      "source": [
        "import numpy as np\n",
        "\n",
        "#create a new array with the right dimensions\n",
        "labels = df['label'].values.reshape(1,60000)\n",
        "#fill it with zeros\n",
        "labels_ = np.zeros((60000,10))\n",
        "#print(labels_)\n",
        "# set to 1 only the columns related to the label itself\n",
        "labels_[np.arange (60000), labels] = 1\n",
        "#print(labels_)\n",
        "# transpose it, to have the dimensions we want at the end: (10, 60000),\n",
        "labels_ = labels_.transpose()\n",
        "#print(labels_)\n",
        "#converts the pandas data frame into a NumPy array)\n",
        "labels_ = np.array(labels_)\n",
        "print(labels_)"
      ],
      "execution_count": 27,
      "outputs": [
        {
          "output_type": "stream",
          "text": [
            "[[0. 0. 0. ... 0. 0. 0.]\n",
            " [0. 0. 0. ... 0. 0. 0.]\n",
            " [1. 0. 0. ... 0. 0. 0.]\n",
            " ...\n",
            " [0. 0. 0. ... 0. 0. 1.]\n",
            " [0. 0. 0. ... 1. 1. 0.]\n",
            " [0. 1. 0. ... 0. 0. 0.]]\n"
          ],
          "name": "stdout"
        }
      ]
    }
  ]
}