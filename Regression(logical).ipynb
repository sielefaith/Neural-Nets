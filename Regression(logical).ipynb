{
  "nbformat": 4,
  "nbformat_minor": 0,
  "metadata": {
    "colab": {
      "name": "Regression(logical).ipynb",
      "provenance": [],
      "collapsed_sections": [],
      "toc_visible": true,
      "authorship_tag": "ABX9TyOfqWi3HOvS2p3a1uFDpXDm",
      "include_colab_link": true
    },
    "kernelspec": {
      "name": "python3",
      "display_name": "Python 3"
    }
  },
  "cells": [
    {
      "cell_type": "markdown",
      "metadata": {
        "id": "view-in-github",
        "colab_type": "text"
      },
      "source": [
        "<a href=\"https://colab.research.google.com/github/sielefaith/Neural-Nets/blob/feature/Regression(logical).ipynb\" target=\"_parent\"><img src=\"https://colab.research.google.com/assets/colab-badge.svg\" alt=\"Open In Colab\"/></a>"
      ]
    },
    {
      "cell_type": "code",
      "metadata": {
        "id": "oZs-6fO5uL1j",
        "colab": {
          "base_uri": "https://localhost:8080/",
          "height": 1000
        },
        "outputId": "b461c63a-4901-4f3a-da23-b075a67c0843"
      },
      "source": [
        "from sklearn.datasets import fetch_openml\n",
        "import numpy as np\n",
        "import matplotlib\n",
        "import matplotlib.pyplot as plt\n",
        "%matplotlib inline\n",
        "import tensorflow.compat.v1 as tf\n",
        "tf.disable_v2_behavior()\n",
        "\n",
        "mnist = fetch_openml('mnist_784')\n",
        "X,y = mnist[\"data\"], mnist[\"target\"]\n",
        "print(y)\n",
        "#convert string to float\n",
        "Y = y.astype(np.float)\n",
        "print(Y)\n",
        "\n",
        "for i in range(10):\n",
        " print (\"digit\", i, \"appears\", np.count_nonzero(Y == i), \"times\")\n",
        "\n",
        "def plot_digit(some_digit):\n",
        "  some_digit_image = some_digit.reshape(28,28)\n",
        "  plt.imshow(some_digit_image, cmap = matplotlib.cm.binary, interpolation \n",
        "= \"nearest\")\n",
        "  plt.axis(\"off\")\n",
        "  plt.show()\n",
        "\n",
        "plot_digit(X[36003])\n",
        "\n",
        "# extract from our dataset only the images that represent a 1 or a 2\n",
        "X_train = X[np.any([Y == 1,Y == 2], axis = 0)]\n",
        "y_train = Y[np.any([Y == 1,Y == 2], axis = 0)]\n",
        "print(X_train,y_train)\n",
        "#input observations must be normalized\n",
        "# gray levels in the source images go from 0 to 255\n",
        "X_train_normalised = X_train/255.0\n",
        "\n",
        "#In each column, we want to have an input observation, and each row should represent a feature (a pixel gray value), so we must reshape the tensors\n",
        "X_train_tr = X_train_normalised.transpose()\n",
        "y_train_tr = y_train.reshape(1,y_train.shape[0])\n",
        "\n",
        "# define a variable n_dim to contain the number of features\n",
        "n_dim = X_train_tr.shape[0]\n",
        "\n",
        "# we will build our cost function with the assumptions that our class’s labels are 0 and 1, so we must rescale our y_train_tr array\n",
        "#all images representing a 1 will have a label of 0, and all images representing a 2 will have a label of 1\n",
        "y_train_shifted = y_train_tr - 1\n",
        "\n",
        "#Finally, let’s use some proper names for our Python variables.\n",
        "Xtrain = X_train_tr\n",
        "ytrain = y_train_shifted\n",
        "\n",
        "print(Xtrain,ytrain)\n",
        "\n",
        "#TF\n",
        "# let’s define placeholders and variables.\n",
        "tf.reset_default_graph()\n",
        "X = tf.placeholder(tf.float32, [n_dim, None])\n",
        "Y = tf.placeholder(tf.float32, [1, None])\n",
        "learning_rate = tf.placeholder(tf.float32, shape=())\n",
        "W = tf.Variable(tf.zeros([1, n_dim]))\n",
        "b = tf.Variable(tf.zeros(1))\n",
        "init = tf.global_variables_initializer()\n",
        "\n",
        "# define cost function (cross entropy) and a different neuron output (the sigmoid function).\n",
        "y_ = tf.sigmoid(tf.matmul(W,X)+b)\n",
        "cost = - tf.reduce_mean(Y * tf.log(y_)+(1-Y) * tf.log(1-y_))\n",
        "training_step = tf.train.GradientDescentOptimizer(learning_rate).minimize(cost)\n",
        "###################################################\n",
        "#function to run model\n",
        "def run_logistic_model(learning_r, training_epochs, train_obs, \n",
        "train_labels, debug = False):\n",
        "  sess = tf.Session()\n",
        "  sess.run(init)\n",
        "  cost_history = np.empty(shape=[0], dtype = float)\n",
        "  for epoch in range(training_epochs+1):\n",
        "    sess.run(training_step, feed_dict = {X: train_obs, Y: train_labels, \n",
        "learning_rate: learning_r})\n",
        "    cost_ = sess.run(cost, feed_dict={ X:train_obs, Y: train_labels, \n",
        "learning_rate: learning_r})\n",
        "    cost_history = np.append(cost_history, cost_)\n",
        "    if (epoch % 500 == 0) & debug:\n",
        "      print(\"Reached epoch\",epoch,\"cost J =\", str.format('{0:.6f}', \n",
        "cost_))\n",
        "  return sess, cost_history\n",
        "\n",
        "\n",
        "\n",
        "\n",
        "\n",
        "#run the model\n",
        "sess, cost_history = run_logistic_model(learning_r = 0.005,\n",
        " training_epochs = 5000,\n",
        " train_obs = Xtrain,\n",
        " train_labels = ytrain,\n",
        " debug = True)\n",
        "\n",
        " #accuracy\n",
        "correct_prediction1 = tf.equal(tf.greater(y_, 0.5), tf.equal(Y,1))\n",
        "accuracy = tf.reduce_mean(tf.cast(correct_prediction1, tf.float32))\n",
        "print(sess.run(accuracy, feed_dict={X:Xtrain, Y: ytrain, learning_rate: \n",
        "0.05}))\n",
        "\n",
        "plt.plot(cost_history)\n",
        "plt.xlabel(\"epochs\")\n",
        "plt.ylabel(\"Cost function J\")\n",
        "plt.show()\n",
        "####################\n",
        "\n",
        "\n"
      ],
      "execution_count": 8,
      "outputs": [
        {
          "output_type": "stream",
          "text": [
            "['5' '0' '4' ... '4' '5' '6']\n",
            "[5. 0. 4. ... 4. 5. 6.]\n",
            "digit 0 appears 6903 times\n",
            "digit 1 appears 7877 times\n",
            "digit 2 appears 6990 times\n",
            "digit 3 appears 7141 times\n",
            "digit 4 appears 6824 times\n",
            "digit 5 appears 6313 times\n",
            "digit 6 appears 6876 times\n",
            "digit 7 appears 7293 times\n",
            "digit 8 appears 6825 times\n",
            "digit 9 appears 6958 times\n"
          ],
          "name": "stdout"
        },
        {
          "output_type": "display_data",
          "data": {
            "image/png": "[encoded data removed]",
            "text/plain": [
              "<Figure size 432x288 with 1 Axes>"
            ]
          },
          "metadata": {
            "tags": [],
            "needs_background": "light"
          }
        },
        {
          "output_type": "stream",
          "text": [
            "[[0. 0. 0. ... 0. 0. 0.]\n",
            " [0. 0. 0. ... 0. 0. 0.]\n",
            " [0. 0. 0. ... 0. 0. 0.]\n",
            " ...\n",
            " [0. 0. 0. ... 0. 0. 0.]\n",
            " [0. 0. 0. ... 0. 0. 0.]\n",
            " [0. 0. 0. ... 0. 0. 0.]] [1. 2. 1. ... 2. 1. 2.]\n",
            "[[0. 0. 0. ... 0. 0. 0.]\n",
            " [0. 0. 0. ... 0. 0. 0.]\n",
            " [0. 0. 0. ... 0. 0. 0.]\n",
            " ...\n",
            " [0. 0. 0. ... 0. 0. 0.]\n",
            " [0. 0. 0. ... 0. 0. 0.]\n",
            " [0. 0. 0. ... 0. 0. 0.]] [[0. 1. 0. ... 1. 0. 1.]]\n",
            "Reached epoch 0 cost J = 0.685799\n",
            "Reached epoch 500 cost J = 0.154386\n",
            "Reached epoch 1000 cost J = 0.108590\n",
            "Reached epoch 1500 cost J = 0.089566\n",
            "Reached epoch 2000 cost J = 0.078767\n",
            "Reached epoch 2500 cost J = 0.071669\n",
            "Reached epoch 3000 cost J = 0.066580\n",
            "Reached epoch 3500 cost J = 0.062715\n",
            "Reached epoch 4000 cost J = 0.059656\n",
            "Reached epoch 4500 cost J = 0.057158\n",
            "Reached epoch 5000 cost J = nan\n",
            "0.5298312\n"
          ],
          "name": "stdout"
        },
        {
          "output_type": "display_data",
          "data": {
            "image/png": "[encoded data removed]",
            "text/plain": [
              "<Figure size 432x288 with 1 Axes>"
            ]
          },
          "metadata": {
            "tags": [],
            "needs_background": "light"
          }
        }
      ]
    }
  ]
}